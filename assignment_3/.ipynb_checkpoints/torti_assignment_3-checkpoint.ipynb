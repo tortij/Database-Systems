{
 "cells": [
  {
   "cell_type": "markdown",
   "id": "5f36745c",
   "metadata": {},
   "source": [
    "<b> load libraries <b>"
   ]
  },
  {
   "cell_type": "code",
   "execution_count": 28,
   "id": "daa627f3",
   "metadata": {},
   "outputs": [],
   "source": [
    "# load libraries\n",
    "import pandas as pd\n",
    "import numpy as np\n",
    "\n",
    "# https://docs.sqlalchemy.org/en/13/intro.html\n",
    "import sqlalchemy\n",
    "from sqlalchemy import create_engine\n",
    "\n",
    "import sqlite3\n",
    "\n",
    "import matplotlib.pyplot as plt\n",
    "import seaborn as sns\n",
    "\n",
    "# set up notebook to display multiple output in one cell\n",
    "from IPython.core.interactiveshell import InteractiveShell\n",
    "InteractiveShell.ast_node_interactivity = \"all\""
   ]
  },
  {
   "cell_type": "markdown",
   "id": "a3d4c638",
   "metadata": {},
   "source": [
    "<b> load schema into notebook <b>"
   ]
  },
  {
   "cell_type": "code",
   "execution_count": 36,
   "id": "532afe02",
   "metadata": {},
   "outputs": [
    {
     "data": {
      "text/plain": [
       "<_io.TextIOWrapper name='Build-DB-SaleCo-ver1.sql' mode='r' encoding='UTF-8'>"
      ]
     },
     "execution_count": 36,
     "metadata": {},
     "output_type": "execute_result"
    }
   ],
   "source": [
    "\n",
    "# df = pd.read_csv(\"Final Traffic.csv\")\n",
    "\n",
    "\n",
    "# check out fields\n",
    "# df.info()\n",
    "# pd.read_sql_table(query).columns\n",
    "# df = data\n",
    "\n",
    "\n",
    "# sql_query = pd.read_sql_query ('''select inv_number, inv_date from invoice group by inv_number;\n",
    "#                                ''', conn)\n",
    "conn"
   ]
  },
  {
   "cell_type": "code",
   "execution_count": 23,
   "id": "1c40884f",
   "metadata": {},
   "outputs": [
    {
     "ename": "AttributeError",
     "evalue": "'_io.TextIOWrapper' object has no attribute 'to_sql'",
     "output_type": "error",
     "traceback": [
      "\u001b[0;31m---------------------------------------------------------------------------\u001b[0m",
      "\u001b[0;31mAttributeError\u001b[0m                            Traceback (most recent call last)",
      "Cell \u001b[0;32mIn[23], line 4\u001b[0m\n\u001b[1;32m      1\u001b[0m \u001b[38;5;66;03m# 'engine' will be used to reference the database\u001b[39;00m\n\u001b[1;32m      2\u001b[0m engine \u001b[38;5;241m=\u001b[39m create_engine(\u001b[38;5;124m'\u001b[39m\u001b[38;5;124msqlite:///sqlite3.exe\u001b[39m\u001b[38;5;124m'\u001b[39m)\n\u001b[0;32m----> 4\u001b[0m \u001b[43mdf\u001b[49m\u001b[38;5;241;43m.\u001b[39;49m\u001b[43mto_sql\u001b[49m(\u001b[38;5;124m'\u001b[39m\u001b[38;5;124mschema\u001b[39m\u001b[38;5;124m'\u001b[39m, engine, if_exists \u001b[38;5;241m=\u001b[39m \u001b[38;5;124m'\u001b[39m\u001b[38;5;124mreplace\u001b[39m\u001b[38;5;124m'\u001b[39m, index \u001b[38;5;241m=\u001b[39m \u001b[38;5;28;01mFalse\u001b[39;00m)\n\u001b[1;32m      5\u001b[0m \u001b[38;5;66;03m# check out columns in table\u001b[39;00m\n\u001b[1;32m      6\u001b[0m pd\u001b[38;5;241m.\u001b[39mread_sql_table(\u001b[38;5;124m'\u001b[39m\u001b[38;5;124mschema\u001b[39m\u001b[38;5;124m'\u001b[39m, engine)\u001b[38;5;241m.\u001b[39mcolumns\n",
      "\u001b[0;31mAttributeError\u001b[0m: '_io.TextIOWrapper' object has no attribute 'to_sql'"
     ]
    }
   ],
   "source": [
    "# 'engine' will be used to reference the database\n",
    "engine = create_engine('sqlite:///sqlite3.exe')\n",
    "\n",
    "df.to_sql('schema', engine, if_exists = 'replace', index = False)\n",
    "# check out columns in table\n",
    "pd.read_sql_table('schema', engine).columns"
   ]
  }
 ],
 "metadata": {
  "kernelspec": {
   "display_name": "Python 3 (ipykernel)",
   "language": "python",
   "name": "python3"
  },
  "language_info": {
   "codemirror_mode": {
    "name": "ipython",
    "version": 3
   },
   "file_extension": ".py",
   "mimetype": "text/x-python",
   "name": "python",
   "nbconvert_exporter": "python",
   "pygments_lexer": "ipython3",
   "version": "3.10.9"
  }
 },
 "nbformat": 4,
 "nbformat_minor": 5
}
